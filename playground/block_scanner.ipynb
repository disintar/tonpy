{
 "cells": [
  {
   "cell_type": "code",
   "execution_count": 1,
   "id": "5d9dbb7b",
   "metadata": {},
   "outputs": [],
   "source": [
    "import sys\n",
    "sys.path.append(\"../src\")\n",
    "\n",
    "import requests\n",
    "\n",
    "from tonpy import LiteClient, Cell, get_block_info, BlockId, BlockIdExt, \\\n",
    "        Address, Emulator, begin_cell, StackEntry, VmDict, CellSlice\n",
    "\n",
    "from tonpy.utils.shard_account import shard_is_ancestor, shard_child\n",
    "from tonpy.libs.python_ton import Bits256\n",
    "from tonpy.autogen.block import Account, Transaction, Block, BlockInfo, BlockExtra, MessageAny, AccountState\n",
    "from tqdm import tqdm\n",
    "from tonpy.utils.chunks import chunks\n",
    "from multiprocess.pool import ThreadPool"
   ]
  },
  {
   "cell_type": "code",
   "execution_count": 2,
   "id": "9fe82c14",
   "metadata": {},
   "outputs": [],
   "source": [
    "lc = LiteClient(mode='roundrobin')"
   ]
  },
  {
   "cell_type": "code",
   "execution_count": 3,
   "id": "8cae9cea",
   "metadata": {},
   "outputs": [],
   "source": [
    "mc_blocks = []"
   ]
  },
  {
   "cell_type": "code",
   "execution_count": 4,
   "id": "b412555c",
   "metadata": {},
   "outputs": [],
   "source": [
    "start = lc.get_masterchain_info_ext()"
   ]
  },
  {
   "cell_type": "code",
   "execution_count": 5,
   "id": "b46ab9b6",
   "metadata": {},
   "outputs": [
    {
     "data": {
      "text/plain": [
       "[<BlockId: (0,8000000000000000,41449943)>]"
      ]
     },
     "execution_count": 5,
     "metadata": {},
     "output_type": "execute_result"
    }
   ],
   "source": [
    "lc.get_all_shards_info(start.last)"
   ]
  },
  {
   "cell_type": "code",
   "execution_count": null,
   "id": "de0064ac",
   "metadata": {},
   "outputs": [],
   "source": [
    "mc_hashes = []"
   ]
  },
  {
   "cell_type": "code",
   "execution_count": null,
   "id": "d56d3a67",
   "metadata": {},
   "outputs": [],
   "source": [
    "def f(c):\n",
    "    lc = LiteClient(mode='roundrobin')\n",
    "    answer = []\n",
    "    for i in tqdm(c):\n",
    "        answer.append(lc.lookup_block(BlockId(-1, 0x8000000000000000, i)))\n",
    "    return answer"
   ]
  },
  {
   "cell_type": "code",
   "execution_count": null,
   "id": "ccdd8f58",
   "metadata": {},
   "outputs": [],
   "source": [
    "mc_seqnos = list(chunks(list(range(start.last.id.seqno - 150000, start.last.id.seqno)), 100))\n",
    "\n",
    "print(\"Total: \", len(mc_seqnos))\n",
    "with ThreadPool(5) as pool:\n",
    "    results = pool.imap_unordered(f, mc_seqnos)\n",
    "\n",
    "    for result in tqdm(results, desc=\"[multithread] Load blocks\",\n",
    "                       total=len(mc_seqnos)):\n",
    "        mc_hashes.extend(result)"
   ]
  },
  {
   "cell_type": "code",
   "execution_count": null,
   "id": "2609cd42",
   "metadata": {},
   "outputs": [],
   "source": []
  }
 ],
 "metadata": {
  "kernelspec": {
   "display_name": "Python 3 (ipykernel)",
   "language": "python",
   "name": "python3"
  },
  "language_info": {
   "codemirror_mode": {
    "name": "ipython",
    "version": 3
   },
   "file_extension": ".py",
   "mimetype": "text/x-python",
   "name": "python",
   "nbconvert_exporter": "python",
   "pygments_lexer": "ipython3",
   "version": "3.9.17"
  }
 },
 "nbformat": 4,
 "nbformat_minor": 5
}
